{
 "cells": [
  {
   "cell_type": "code",
   "execution_count": 2,
   "metadata": {},
   "outputs": [],
   "source": [
    "from sklearn.datasets import load_breast_cancer\n",
    "from sklearn.model_selection import train_test_split"
   ]
  },
  {
   "cell_type": "code",
   "execution_count": 4,
   "metadata": {},
   "outputs": [],
   "source": [
    "cancer = load_breast_cancer()\n",
    "\n",
    "X_train, X_test, y_train, y_test = train_test_split(cancer.data,\n",
    "                                                    cancer.target,\n",
    "                                                    random_state = 1)"
   ]
  },
  {
   "cell_type": "code",
   "execution_count": 13,
   "metadata": {},
   "outputs": [],
   "source": [
    "from sklearn.preprocessing import MinMaxScaler\n",
    "\n",
    "scaler = MinMaxScaler()"
   ]
  },
  {
   "cell_type": "code",
   "execution_count": 7,
   "metadata": {},
   "outputs": [
    {
     "name": "stdout",
     "output_type": "stream",
     "text": [
      "scaler 적용 전 X_train :[[1.522e+01 3.062e+01 1.034e+02 7.169e+02 1.048e-01 2.087e-01 2.550e-01\n",
      "  9.429e-02 2.128e-01 7.152e-02 2.602e-01 1.205e+00 2.362e+00 2.265e+01\n",
      "  4.625e-03 4.844e-02 7.359e-02 1.608e-02 2.137e-02 6.142e-03 1.752e+01\n",
      "  4.279e+01 1.287e+02 9.150e+02 1.417e-01 7.917e-01 1.170e+00 2.356e-01\n",
      "  4.089e-01 1.409e-01]\n",
      " [1.496e+01 1.910e+01 9.703e+01 6.873e+02 8.992e-02 9.823e-02 5.940e-02\n",
      "  4.819e-02 1.879e-01 5.852e-02 2.877e-01 9.480e-01 2.171e+00 2.487e+01\n",
      "  5.332e-03 2.115e-02 1.536e-02 1.187e-02 1.522e-02 2.815e-03 1.625e+01\n",
      "  2.619e+01 1.091e+02 8.098e+02 1.313e-01 3.030e-01 1.804e-01 1.489e-01\n",
      "  2.962e-01 8.472e-02]\n",
      " [1.468e+01 2.013e+01 9.474e+01 6.845e+02 9.867e-02 7.200e-02 7.395e-02\n",
      "  5.259e-02 1.586e-01 5.922e-02 4.727e-01 1.240e+00 3.195e+00 4.540e+01\n",
      "  5.718e-03 1.162e-02 1.998e-02 1.109e-02 1.410e-02 2.085e-03 1.907e+01\n",
      "  3.088e+01 1.234e+02 1.138e+03 1.464e-01 1.871e-01 2.914e-01 1.609e-01\n",
      "  3.029e-01 8.216e-02]]\n"
     ]
    }
   ],
   "source": [
    "print(\"scaler 적용 전 X_train :{}\".format(X_train[:3]))"
   ]
  },
  {
   "cell_type": "code",
   "execution_count": 11,
   "metadata": {},
   "outputs": [
    {
     "name": "stdout",
     "output_type": "stream",
     "text": [
      "scaler 적용 전 X_train의 max :[1.522e+01 3.062e+01 1.034e+02 7.169e+02 1.048e-01 2.087e-01 2.550e-01\n",
      " 9.429e-02 2.128e-01 7.152e-02 4.727e-01 1.240e+00 3.195e+00 4.540e+01\n",
      " 5.718e-03 4.844e-02 7.359e-02 1.608e-02 2.137e-02 6.142e-03 1.907e+01\n",
      " 4.279e+01 1.287e+02 1.138e+03 1.464e-01 7.917e-01 1.170e+00 2.356e-01\n",
      " 4.089e-01 1.409e-01]\n",
      "scaler 적용 전 X_train의 min :[1.468e+01 1.910e+01 9.474e+01 6.845e+02 8.992e-02 7.200e-02 5.940e-02\n",
      " 4.819e-02 1.586e-01 5.852e-02 2.602e-01 9.480e-01 2.171e+00 2.265e+01\n",
      " 4.625e-03 1.162e-02 1.536e-02 1.109e-02 1.410e-02 2.085e-03 1.625e+01\n",
      " 2.619e+01 1.091e+02 8.098e+02 1.313e-01 1.871e-01 1.804e-01 1.489e-01\n",
      " 2.962e-01 8.216e-02]\n"
     ]
    }
   ],
   "source": [
    "# 무엇을 기준으로..?\n",
    "print(\"scaler 적용 전 X_train의 max :{}\".format(X_train[:3].max(axis=0)))\n",
    "print(\"scaler 적용 전 X_train의 min :{}\".format(X_train[:3].min(axis=0)))"
   ]
  },
  {
   "cell_type": "code",
   "execution_count": 14,
   "metadata": {},
   "outputs": [],
   "source": [
    "# 스케일러의 fit => 스케일 변경을 위한 데이터 인식 시켜 주기(데이터 입력)\n",
    "#    transform => 입력된(fit) 데이터를 기반으로 데이터 스케일을 변경(데이터 변형)#\n",
    "# fit_transform => 두 작업을 동시에 한다\n",
    "scaler.fit(X_train) # 스케일을 변경할 데이터를 입력\n",
    "X_train_scaled = scaler.transform(X_train) # 데이터 변경"
   ]
  },
  {
   "cell_type": "code",
   "execution_count": 17,
   "metadata": {
    "scrolled": true
   },
   "outputs": [
    {
     "name": "stdout",
     "output_type": "stream",
     "text": [
      "scaler 적용 후 X_train :[[0.389938   0.70713561 0.4119273  0.24322375 0.4709759  0.70821487\n",
      "  0.59746954 0.46863817 0.53939394 0.46758954 0.05254379 0.18670438\n",
      "  0.0756255  0.02960041 0.09899038 0.34689218 0.18583333 0.30460314\n",
      "  0.22786541 0.18128049 0.34115973 0.82009595 0.38990986 0.17936492\n",
      "  0.46575976 0.83944828 1.         0.80962199 0.59957224 0.91755006]\n",
      " [0.37763264 0.31755157 0.36790823 0.23066808 0.3366435  0.29496484\n",
      "  0.13917526 0.23951292 0.41363636 0.18193804 0.06251586 0.12990629\n",
      "  0.06662583 0.03374686 0.1230241  0.14193229 0.03878788 0.22485319\n",
      "  0.10941623 0.06633915 0.29598008 0.37766525 0.29229543 0.15350963\n",
      "  0.39708116 0.30277506 0.15418803 0.51168385 0.33174905 0.31598672]\n",
      " [0.36438071 0.35238417 0.35208348 0.22948038 0.415636   0.19684274\n",
      "  0.17326617 0.26138171 0.26565657 0.19731927 0.12960075 0.19443953\n",
      "  0.11487537 0.07209216 0.13614577 0.0703578  0.05045455 0.21007767\n",
      "  0.087845   0.04111908 0.39630025 0.50266525 0.36351412 0.23417224\n",
      "  0.4967972  0.17549774 0.24905983 0.55292096 0.3476711  0.28857479]]\n",
      "scaler 적용 후 X_train의 max :[1. 1. 1. 1. 1. 1. 1. 1. 1. 1. 1. 1. 1. 1. 1. 1. 1. 1. 1. 1. 1. 1. 1. 1.\n",
      " 1. 1. 1. 1. 1. 1.]\n",
      "scaler 적용 후 X_train의 min :[0. 0. 0. 0. 0. 0. 0. 0. 0. 0. 0. 0. 0. 0. 0. 0. 0. 0. 0. 0. 0. 0. 0. 0.\n",
      " 0. 0. 0. 0. 0. 0.]\n"
     ]
    }
   ],
   "source": [
    "print(\"scaler 적용 후 X_train :{}\".format(X_train_scaled[:3]))\n",
    "# max값은 모두 1\n",
    "# min값은 모두 0\n",
    "print(\"scaler 적용 후 X_train의 max :{}\".format(X_train_scaled.max(axis=0)))\n",
    "print(\"scaler 적용 후 X_train의 min :{}\".format(X_train_scaled.min(axis=0)))"
   ]
  },
  {
   "cell_type": "code",
   "execution_count": 18,
   "metadata": {},
   "outputs": [],
   "source": [
    "# X_test를 위한 슬케일러는 따로 안만드나?\n",
    "# 단순하게 생각하면 스케일러에 대한 기준을 동일하게 가져간다?\n",
    "# train데이터만 fit을 해야 한다. -> 데이터의 형상을 유지하기 위한 방법\n",
    "# 원본 데이터의 분포도(scatter)를 유지하기 위한 방법\n",
    "# 데이터 형상을 유지하면서 1과 0사이로 값을 줄이는것이 목적\n",
    "X_test_scaled = scaler.transform(X_test)"
   ]
  },
  {
   "cell_type": "code",
   "execution_count": 19,
   "metadata": {},
   "outputs": [
    {
     "name": "stdout",
     "output_type": "stream",
     "text": [
      "scaler 적용 후 X_test의 max :[0.9578778  0.81501522 0.95577362 0.89353128 0.81132075 1.21958701\n",
      " 0.87956888 0.9333996  0.93232323 1.0371347  0.42669616 0.49765736\n",
      " 0.44117231 0.28371044 0.48703131 0.73863671 0.76717172 0.62928585\n",
      " 1.33685792 0.39057253 0.89612238 0.79317697 0.84859804 0.74488793\n",
      " 0.9154725  1.13188961 1.07008547 0.92371134 1.20532319 1.63068851]\n",
      "scaler 적용 후 X_test의 min :[ 0.0336031   0.0226581   0.03144219  0.01141039  0.14128374  0.04406704\n",
      "  0.          0.          0.1540404  -0.00615249 -0.00137796  0.00594501\n",
      "  0.00430665  0.00079567  0.03919502  0.0112206   0.          0.\n",
      " -0.03191387  0.00664013  0.02660975  0.05810235  0.02031974  0.00943767\n",
      "  0.1094235   0.02637792  0.          0.         -0.00023764 -0.00182032]\n"
     ]
    }
   ],
   "source": [
    "print(\"scaler 적용 후 X_test의 max :{}\".format(X_test_scaled.max(axis=0)))\n",
    "print(\"scaler 적용 후 X_test의 min :{}\".format(X_test_scaled.min(axis=0)))"
   ]
  },
  {
   "cell_type": "code",
   "execution_count": 20,
   "metadata": {},
   "outputs": [],
   "source": [
    "# 스케일링 작업의 효과 확인하기\n",
    "from sklearn.svm import SVC"
   ]
  },
  {
   "cell_type": "code",
   "execution_count": 35,
   "metadata": {},
   "outputs": [
    {
     "name": "stdout",
     "output_type": "stream",
     "text": [
      "훈련 세트의 정확도 : 1.00\n",
      "훈련 세트의 정확도 : 0.63\n"
     ]
    },
    {
     "name": "stderr",
     "output_type": "stream",
     "text": [
      "C:\\ProgramData\\Anaconda3\\lib\\site-packages\\sklearn\\svm\\base.py:193: FutureWarning: The default value of gamma will change from 'auto' to 'scale' in version 0.22 to account better for unscaled features. Set gamma explicitly to 'auto' or 'scale' to avoid this warning.\n",
      "  \"avoid this warning.\", FutureWarning)\n"
     ]
    }
   ],
   "source": [
    "cancer = load_breast_cancer()\n",
    "X_train, X_test, y_train, y_test = train_test_split(cancer.data,\n",
    "                                                    cancer.target,\n",
    "                                                    random_state = 0)\n",
    "\n",
    "svm = SVC(C=1000)\n",
    "svm.fit(X_train, y_train)\n",
    "print(\"훈련 세트의 정확도 : {:.2f}\".format(svm.score(X_train, y_train)))\n",
    "print(\"훈련 세트의 정확도 : {:.2f}\".format(svm.score(X_test, y_test)))"
   ]
  },
  {
   "cell_type": "code",
   "execution_count": 36,
   "metadata": {},
   "outputs": [
    {
     "name": "stdout",
     "output_type": "stream",
     "text": [
      "훈련 세트의 정확도 : 0.99\n",
      "테스트 세트의 정확도 : 0.97\n"
     ]
    },
    {
     "name": "stderr",
     "output_type": "stream",
     "text": [
      "C:\\ProgramData\\Anaconda3\\lib\\site-packages\\sklearn\\svm\\base.py:193: FutureWarning: The default value of gamma will change from 'auto' to 'scale' in version 0.22 to account better for unscaled features. Set gamma explicitly to 'auto' or 'scale' to avoid this warning.\n",
      "  \"avoid this warning.\", FutureWarning)\n"
     ]
    }
   ],
   "source": [
    "# MinMaxScaler 사용한 후 확인하기\n",
    "scaler = MinMaxScaler()\n",
    "scaler.fit(X_train)\n",
    "\n",
    "X_train_scaled = scaler.transform(X_train)\n",
    "X_test_scaled = scaler.transform(X_test)\n",
    "\n",
    "svm.fit(X_train_scaled, y_train)\n",
    "\n",
    "print(\"훈련 세트의 정확도 : {:.2f}\".format(svm.score(X_train_scaled, y_train)))\n",
    "print(\"테스트 세트의 정확도 : {:.2f}\".format(svm.score(X_test_scaled, y_test)))"
   ]
  },
  {
   "cell_type": "code",
   "execution_count": 38,
   "metadata": {},
   "outputs": [
    {
     "name": "stdout",
     "output_type": "stream",
     "text": [
      "스케일 조정된 테스트 세트의 정확도 : 0.96\n"
     ]
    }
   ],
   "source": [
    "# 평균을 0으로, 분산을 1로\n",
    "from sklearn.preprocessing import StandardScaler\n",
    "\n",
    "scaler = StandardScaler()\n",
    "scaler.fit(X_train)\n",
    "\n",
    "X_train_scaled = scaler.transform(X_train)\n",
    "X_test_scaled = scaler.transform(X_test)\n",
    "\n",
    "svm.fit(X_train_scaled, y_train)\n",
    "\n",
    "print(\"스케일 조정된 테스트 세트의 정확도 : {:.2f}\".format(svm.score(X_test_scaled, y_test)))"
   ]
  },
  {
   "cell_type": "code",
   "execution_count": null,
   "metadata": {},
   "outputs": [],
   "source": []
  },
  {
   "cell_type": "code",
   "execution_count": null,
   "metadata": {},
   "outputs": [],
   "source": []
  },
  {
   "cell_type": "code",
   "execution_count": null,
   "metadata": {},
   "outputs": [],
   "source": []
  },
  {
   "cell_type": "code",
   "execution_count": null,
   "metadata": {},
   "outputs": [],
   "source": []
  },
  {
   "cell_type": "code",
   "execution_count": null,
   "metadata": {},
   "outputs": [],
   "source": []
  },
  {
   "cell_type": "code",
   "execution_count": null,
   "metadata": {},
   "outputs": [],
   "source": []
  },
  {
   "cell_type": "code",
   "execution_count": null,
   "metadata": {},
   "outputs": [],
   "source": []
  },
  {
   "cell_type": "code",
   "execution_count": null,
   "metadata": {},
   "outputs": [],
   "source": []
  },
  {
   "cell_type": "code",
   "execution_count": null,
   "metadata": {},
   "outputs": [],
   "source": []
  },
  {
   "cell_type": "code",
   "execution_count": null,
   "metadata": {},
   "outputs": [],
   "source": []
  },
  {
   "cell_type": "code",
   "execution_count": null,
   "metadata": {},
   "outputs": [],
   "source": []
  },
  {
   "cell_type": "code",
   "execution_count": null,
   "metadata": {},
   "outputs": [],
   "source": []
  },
  {
   "cell_type": "code",
   "execution_count": null,
   "metadata": {},
   "outputs": [],
   "source": []
  }
 ],
 "metadata": {
  "kernelspec": {
   "display_name": "Python 3",
   "language": "python",
   "name": "python3"
  },
  "language_info": {
   "codemirror_mode": {
    "name": "ipython",
    "version": 3
   },
   "file_extension": ".py",
   "mimetype": "text/x-python",
   "name": "python",
   "nbconvert_exporter": "python",
   "pygments_lexer": "ipython3",
   "version": "3.7.4"
  }
 },
 "nbformat": 4,
 "nbformat_minor": 2
}
